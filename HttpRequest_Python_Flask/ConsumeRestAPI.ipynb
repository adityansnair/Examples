{
 "metadata": {
  "language_info": {
   "codemirror_mode": {
    "name": "ipython",
    "version": 3
   },
   "file_extension": ".py",
   "mimetype": "text/x-python",
   "name": "python",
   "nbconvert_exporter": "python",
   "pygments_lexer": "ipython3",
   "version": "3.8.3-final"
  },
  "orig_nbformat": 2,
  "kernelspec": {
   "name": "python3",
   "display_name": "Python 3.8.3 64-bit",
   "metadata": {
    "interpreter": {
     "hash": "2db524e06e9f5f4ffedc911c917cb75e12dbc923643829bf417064a77eb14d37"
    }
   }
  }
 },
 "nbformat": 4,
 "nbformat_minor": 2,
 "cells": [
  {
   "source": [
    "import requests\n",
    "import json"
   ],
   "cell_type": "code",
   "metadata": {},
   "execution_count": 3,
   "outputs": []
  },
  {
   "cell_type": "code",
   "execution_count": 5,
   "metadata": {},
   "outputs": [],
   "source": [
    "response = requests.get('https://api.stackexchange.com/2.2/questions?order=desc&sort=activity&site=stackoverflow')"
   ]
  },
  {
   "cell_type": "code",
   "execution_count": 24,
   "metadata": {
    "tags": []
   },
   "outputs": [
    {
     "output_type": "stream",
     "name": "stdout",
     "text": [
      "Efficient comparison of 2 integers against another 2\nhttps://stackoverflow.com/questions/66631585/efficient-comparison-of-2-integers-against-another-2\n\nskipped\n\nPython: To separate multiple question in a cell to rows\nhttps://stackoverflow.com/questions/66631583/python-to-separate-multiple-question-in-a-cell-to-rows\n\nCustomizing pytest parameterized test name\nhttps://stackoverflow.com/questions/66631582/customizing-pytest-parameterized-test-name\n\nskipped\n\nHow to create a &quot;not equal&quot; and &quot;not in&quot; filter in django with graphene-django and django-filters\nhttps://stackoverflow.com/questions/66631581/how-to-create-a-not-equal-and-not-in-filter-in-django-with-graphene-django-a\n\nskipped\n\nShould static definitions go in a header file\nhttps://stackoverflow.com/questions/66631579/should-static-definitions-go-in-a-header-file\n\nPHP RabbitMQ - How to assign multiple messages in the queue to their own individual variables in a PHP script\nhttps://stackoverflow.com/questions/66631578/php-rabbitmq-how-to-assign-multiple-messages-in-the-queue-to-their-own-individ\n\nskipped\n\nskipped\n\nGgplot stacked bar plot with percentage labels\nhttps://stackoverflow.com/questions/66631575/ggplot-stacked-bar-plot-with-percentage-labels\n\nskipped\n\nskipped\n\nHow to make Android TFLite ObjectDetect models\nhttps://stackoverflow.com/questions/66631574/how-to-make-android-tflite-objectdetect-models\n\nFullCalendar Add Icon with myID\nhttps://stackoverflow.com/questions/66631573/fullcalendar-add-icon-with-myid\n\nskipped\n\nskipped\n\nFailed to load response data, im using laravel vue\nhttps://stackoverflow.com/questions/66631508/failed-to-load-response-data-im-using-laravel-vue\n\nskipped\n\nskipped\n\nNode.js | Soap GET Request\nhttps://stackoverflow.com/questions/66631570/node-js-soap-get-request\n\ncalculate distance matrix faster\nhttps://stackoverflow.com/questions/66631569/calculate-distance-matrix-faster\n\nCall Java function within stored procedure\nhttps://stackoverflow.com/questions/66631568/call-java-function-within-stored-procedure\n\nGlue job failing due to spark skewness\nhttps://stackoverflow.com/questions/66631567/glue-job-failing-due-to-spark-skewness\n\nskipped\n\nskipped\n\nDjango filter exact value in list\nhttps://stackoverflow.com/questions/66631564/django-filter-exact-value-in-list\n\nCalculate 5 weeks of pay for loop statement\nhttps://stackoverflow.com/questions/66631563/calculate-5-weeks-of-pay-for-loop-statement\n\nskipped\n\n"
     ]
    }
   ],
   "source": [
    "for questions in response.json()['items']:\n",
    "    if questions['answer_count'] == 0:    \n",
    "        print(questions['title'])\n",
    "        print(questions['link'])\n",
    "    else:\n",
    "        print(\"skipped\")\n",
    "    print()"
   ]
  }
 ]
}