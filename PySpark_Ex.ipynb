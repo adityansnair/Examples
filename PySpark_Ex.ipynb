{
  "nbformat": 4,
  "nbformat_minor": 0,
  "metadata": {
    "colab": {
      "name": "PySpark_Ex.ipynb",
      "provenance": [],
      "collapsed_sections": [],
      "authorship_tag": "ABX9TyNGj6eX8iG+5LhVr1Q05neW",
      "include_colab_link": true
    },
    "kernelspec": {
      "name": "python3",
      "display_name": "Python 3"
    }
  },
  "cells": [
    {
      "cell_type": "markdown",
      "metadata": {
        "id": "view-in-github",
        "colab_type": "text"
      },
      "source": [
        "<a href=\"https://colab.research.google.com/github/adityansnair/Examples/blob/master/PySpark_Ex.ipynb\" target=\"_parent\"><img src=\"https://colab.research.google.com/assets/colab-badge.svg\" alt=\"Open In Colab\"/></a>"
      ]
    },
    {
      "cell_type": "code",
      "metadata": {
        "colab": {
          "base_uri": "https://localhost:8080/"
        },
        "id": "QhWzFd9ltbta",
        "outputId": "74bdb823-0d80-45ec-ee6f-c193d0eed605"
      },
      "source": [
        "!pip install pyspark"
      ],
      "execution_count": null,
      "outputs": [
        {
          "output_type": "stream",
          "text": [
            "Collecting pyspark\n",
            "\u001b[?25l  Downloading https://files.pythonhosted.org/packages/45/b0/9d6860891ab14a39d4bddf80ba26ce51c2f9dc4805e5c6978ac0472c120a/pyspark-3.1.1.tar.gz (212.3MB)\n",
            "\u001b[K     |████████████████████████████████| 212.3MB 70kB/s \n",
            "\u001b[?25hCollecting py4j==0.10.9\n",
            "\u001b[?25l  Downloading https://files.pythonhosted.org/packages/9e/b6/6a4fb90cd235dc8e265a6a2067f2a2c99f0d91787f06aca4bcf7c23f3f80/py4j-0.10.9-py2.py3-none-any.whl (198kB)\n",
            "\u001b[K     |████████████████████████████████| 204kB 18.4MB/s \n",
            "\u001b[?25hBuilding wheels for collected packages: pyspark\n",
            "  Building wheel for pyspark (setup.py) ... \u001b[?25l\u001b[?25hdone\n",
            "  Created wheel for pyspark: filename=pyspark-3.1.1-py2.py3-none-any.whl size=212767604 sha256=d1a27a24310dd1941b5f7a7380047f39b888b22ab80185773fcc45daff23f170\n",
            "  Stored in directory: /root/.cache/pip/wheels/0b/90/c0/01de724414ef122bd05f056541fb6a0ecf47c7ca655f8b3c0f\n",
            "Successfully built pyspark\n",
            "Installing collected packages: py4j, pyspark\n",
            "Successfully installed py4j-0.10.9 pyspark-3.1.1\n"
          ],
          "name": "stdout"
        }
      ]
    },
    {
      "cell_type": "code",
      "metadata": {
        "id": "M-HoZpQA39SU"
      },
      "source": [
        "import csv\r\n",
        "import nltk\r\n",
        "from pyspark.sql import Row\r\n",
        "from pyspark.sql.functions import col,lit"
      ],
      "execution_count": 126,
      "outputs": []
    },
    {
      "cell_type": "code",
      "metadata": {
        "id": "DDjnV33pssj7"
      },
      "source": [
        "from pyspark.sql import SparkSession\r\n",
        "\r\n",
        "spark = SparkSession.builder.master(\"local[1]\").appName(\"SparkByExamples.com\").getOrCreate()  "
      ],
      "execution_count": 17,
      "outputs": []
    },
    {
      "cell_type": "code",
      "metadata": {
        "id": "B9GHTtKd7KY-"
      },
      "source": [
        "data = [('James','','Smith','1991-04-01','M',3000),\r\n",
        "  ('Michael','Rose','','2000-05-19','M',4000),\r\n",
        "  ('Robert','','Williams','1978-09-05','M',4000),\r\n",
        "  ('Maria','Anne','Jones','1967-12-01','F',4000),\r\n",
        "  ('Jen','Mary','Brown','1980-02-17','F',-1)\r\n",
        "]\r\n",
        "data2 = [(('James','','Smith'),'1991-04-01','M',3000),\r\n",
        "  (('Michael','Rose',''),'2000-05-19','M',4000),\r\n",
        "  (('Robert','','Williams'),'1978-09-05','M',4000),\r\n",
        "  (('Maria','Anne','Jones'),'1967-12-01','F',4000),\r\n",
        "  (('Jen','Mary','Brown'),'1980-02-17','F',-1)\r\n",
        "]\r\n",
        "columns = [\"firstname\",\"middlename\",\"lastname\",\"dob\",\"gender\",\"salary\"]\r\n",
        "\r\n",
        "schema = StructType([ \\\r\n",
        "    StructField(\"firstname\",StringType(),True), \\\r\n",
        "    StructField(\"middlename\",StringType(),True), \\\r\n",
        "    StructField(\"lastname\",StringType(),True), \\\r\n",
        "    StructField(\"dob\", StringType(), True), \\\r\n",
        "    StructField(\"gender\", StringType(), True), \\\r\n",
        "    StructField(\"salary\", IntegerType(), True) \\\r\n",
        "  ])\r\n",
        "\r\n",
        "schema2 = StructType([\r\n",
        "        StructField('name', StructType([\r\n",
        "             StructField('firstname', StringType(), True),\r\n",
        "             StructField('middlename', StringType(), True),\r\n",
        "             StructField('lastname', StringType(), True)\r\n",
        "             ])),\r\n",
        "         StructField('dob', StringType(), True),\r\n",
        "         StructField('gender', StringType(), True),\r\n",
        "         StructField(\"salary\", IntegerType(), True) \\\r\n",
        "         ])"
      ],
      "execution_count": 105,
      "outputs": []
    },
    {
      "cell_type": "markdown",
      "metadata": {
        "id": "KbKu54WJyAYY"
      },
      "source": [
        "#PySpark RDD – Resilient Distributed Dataset"
      ]
    },
    {
      "cell_type": "markdown",
      "metadata": {
        "id": "ncmRRQPfulV5"
      },
      "source": [
        "##parallelize() method is used to create an RDD from a list."
      ]
    },
    {
      "cell_type": "code",
      "metadata": {
        "id": "XyvaloKXufZB"
      },
      "source": [
        "\r\n",
        "#Create RDD from parallelize   \r\n",
        "\r\n",
        "rdd=spark.sparkContext.parallelize(data)"
      ],
      "execution_count": 32,
      "outputs": []
    },
    {
      "cell_type": "markdown",
      "metadata": {
        "id": "hTCRmfIluzYp"
      },
      "source": [
        "##textFile() method is used to create an RDD from a text file"
      ]
    },
    {
      "cell_type": "code",
      "metadata": {
        "id": "fvNAWALou_P1",
        "colab": {
          "base_uri": "https://localhost:8080/",
          "height": 129
        },
        "outputId": "9eb7c4db-14a0-459c-97a5-58c7312b34a5"
      },
      "source": [
        "//Create RDD from external Data source\r\n",
        "rdd2 = spark.sparkContext.textFile(\"/path/textFile.txt\")"
      ],
      "execution_count": 16,
      "outputs": [
        {
          "output_type": "error",
          "ename": "SyntaxError",
          "evalue": "ignored",
          "traceback": [
            "\u001b[0;36m  File \u001b[0;32m\"<ipython-input-16-ab092dd2caae>\"\u001b[0;36m, line \u001b[0;32m1\u001b[0m\n\u001b[0;31m    (/Create, RDD, from, external, Data, source)\u001b[0m\n\u001b[0m     ^\u001b[0m\n\u001b[0;31mSyntaxError\u001b[0m\u001b[0;31m:\u001b[0m invalid syntax\n"
          ]
        }
      ]
    },
    {
      "cell_type": "markdown",
      "metadata": {
        "id": "htC3tMwCyHoL"
      },
      "source": [
        "#PySpark DataFrame"
      ]
    },
    {
      "cell_type": "markdown",
      "metadata": {
        "id": "i8dJOM8UzQyB"
      },
      "source": [
        "##Create DataFrame from RDD"
      ]
    },
    {
      "cell_type": "markdown",
      "metadata": {
        "id": "slEdPGugzYZ-"
      },
      "source": [
        "###Using toDF() function : to create a DataFrame from existing RDD"
      ]
    },
    {
      "cell_type": "code",
      "metadata": {
        "colab": {
          "base_uri": "https://localhost:8080/"
        },
        "id": "b_3Sd8jjzaUm",
        "outputId": "94feb165-221f-43ad-f4bd-c7294a0ba9de"
      },
      "source": [
        "dfFromRDD1 = rdd.toDF()\r\n",
        "dfFromRDD1.printSchema()"
      ],
      "execution_count": 33,
      "outputs": [
        {
          "output_type": "stream",
          "text": [
            "root\n",
            " |-- _1: string (nullable = true)\n",
            " |-- _2: string (nullable = true)\n",
            " |-- _3: string (nullable = true)\n",
            " |-- _4: string (nullable = true)\n",
            " |-- _5: string (nullable = true)\n",
            " |-- _6: long (nullable = true)\n",
            "\n"
          ],
          "name": "stdout"
        }
      ]
    },
    {
      "cell_type": "code",
      "metadata": {
        "colab": {
          "base_uri": "https://localhost:8080/"
        },
        "id": "zXCWrJQfz6Xj",
        "outputId": "8adcba2e-e220-4362-97e2-f862607163eb"
      },
      "source": [
        "dfFromRDD1 = rdd.toDF(columns)\r\n",
        "dfFromRDD1.printSchema()\r\n",
        "dfFromRDD1.show()"
      ],
      "execution_count": 37,
      "outputs": [
        {
          "output_type": "stream",
          "text": [
            "root\n",
            " |-- firstname: string (nullable = true)\n",
            " |-- middlename: string (nullable = true)\n",
            " |-- lastname: string (nullable = true)\n",
            " |-- dob: string (nullable = true)\n",
            " |-- gender: string (nullable = true)\n",
            " |-- salary: long (nullable = true)\n",
            "\n",
            "+---------+----------+--------+----------+------+------+\n",
            "|firstname|middlename|lastname|       dob|gender|salary|\n",
            "+---------+----------+--------+----------+------+------+\n",
            "|    James|          |   Smith|1991-04-01|     M|  3000|\n",
            "|  Michael|      Rose|        |2000-05-19|     M|  4000|\n",
            "|   Robert|          |Williams|1978-09-05|     M|  4000|\n",
            "|    Maria|      Anne|   Jones|1967-12-01|     F|  4000|\n",
            "|      Jen|      Mary|   Brown|1980-02-17|     F|    -1|\n",
            "+---------+----------+--------+----------+------+------+\n",
            "\n"
          ],
          "name": "stdout"
        }
      ]
    },
    {
      "cell_type": "markdown",
      "metadata": {
        "id": "hjj2Sim6w3U7"
      },
      "source": [
        "###Using createDataFrame() from SparkSession by RDD as argument"
      ]
    },
    {
      "cell_type": "code",
      "metadata": {
        "colab": {
          "base_uri": "https://localhost:8080/"
        },
        "id": "bitajzcH0QZP",
        "outputId": "2c209623-8a7a-48d4-a05c-4cddbac709e2"
      },
      "source": [
        "df = spark.createDataFrame(rdd, schema = columns)\r\n",
        "df.printSchema()\r\n",
        "df.show() "
      ],
      "execution_count": 40,
      "outputs": [
        {
          "output_type": "stream",
          "text": [
            "root\n",
            " |-- firstname: string (nullable = true)\n",
            " |-- middlename: string (nullable = true)\n",
            " |-- lastname: string (nullable = true)\n",
            " |-- dob: string (nullable = true)\n",
            " |-- gender: string (nullable = true)\n",
            " |-- salary: long (nullable = true)\n",
            "\n",
            "+---------+----------+--------+----------+------+------+\n",
            "|firstname|middlename|lastname|       dob|gender|salary|\n",
            "+---------+----------+--------+----------+------+------+\n",
            "|    James|          |   Smith|1991-04-01|     M|  3000|\n",
            "|  Michael|      Rose|        |2000-05-19|     M|  4000|\n",
            "|   Robert|          |Williams|1978-09-05|     M|  4000|\n",
            "|    Maria|      Anne|   Jones|1967-12-01|     F|  4000|\n",
            "|      Jen|      Mary|   Brown|1980-02-17|     F|    -1|\n",
            "+---------+----------+--------+----------+------+------+\n",
            "\n"
          ],
          "name": "stdout"
        }
      ]
    },
    {
      "cell_type": "markdown",
      "metadata": {
        "id": "3ehIuRAN2Zxj"
      },
      "source": [
        "## Create DataFrame from List Collection"
      ]
    },
    {
      "cell_type": "markdown",
      "metadata": {
        "id": "h6EkKuzS2pKv"
      },
      "source": [
        "###Using createDataFrame() from SparkSession"
      ]
    },
    {
      "cell_type": "code",
      "metadata": {
        "colab": {
          "base_uri": "https://localhost:8080/"
        },
        "id": "coXAdzpt24xs",
        "outputId": "05b30292-7060-4176-f465-2e5f5b2909f1"
      },
      "source": [
        "dfFromData2 = spark.createDataFrame(data, schema=columns)\r\n",
        "dfFromData2.show()"
      ],
      "execution_count": 43,
      "outputs": [
        {
          "output_type": "stream",
          "text": [
            "+---------+----------+--------+----------+------+------+\n",
            "|firstname|middlename|lastname|       dob|gender|salary|\n",
            "+---------+----------+--------+----------+------+------+\n",
            "|    James|          |   Smith|1991-04-01|     M|  3000|\n",
            "|  Michael|      Rose|        |2000-05-19|     M|  4000|\n",
            "|   Robert|          |Williams|1978-09-05|     M|  4000|\n",
            "|    Maria|      Anne|   Jones|1967-12-01|     F|  4000|\n",
            "|      Jen|      Mary|   Brown|1980-02-17|     F|    -1|\n",
            "+---------+----------+--------+----------+------+------+\n",
            "\n"
          ],
          "name": "stdout"
        }
      ]
    },
    {
      "cell_type": "markdown",
      "metadata": {
        "id": "dvJbC39o2w5G"
      },
      "source": [
        "###Using createDataFrame() with the Row type"
      ]
    },
    {
      "cell_type": "code",
      "metadata": {
        "colab": {
          "base_uri": "https://localhost:8080/"
        },
        "id": "xxsO-0X13xYa",
        "outputId": "167fd6a6-4b8e-4e18-a4a7-d540bb59d6df"
      },
      "source": [
        "rowData = map(lambda x: Row(*x), data) \r\n",
        "dfFromData3 = spark.createDataFrame(rowData,columns)\r\n",
        "dfFromData3.printSchema()\r\n",
        "dfFromData3.show()"
      ],
      "execution_count": 54,
      "outputs": [
        {
          "output_type": "stream",
          "text": [
            "root\n",
            " |-- firstname: string (nullable = true)\n",
            " |-- middlename: string (nullable = true)\n",
            " |-- lastname: string (nullable = true)\n",
            " |-- dob: string (nullable = true)\n",
            " |-- gender: string (nullable = true)\n",
            " |-- salary: long (nullable = true)\n",
            "\n",
            "+---------+----------+--------+----------+------+------+\n",
            "|firstname|middlename|lastname|       dob|gender|salary|\n",
            "+---------+----------+--------+----------+------+------+\n",
            "|    James|          |   Smith|1991-04-01|     M|  3000|\n",
            "|  Michael|      Rose|        |2000-05-19|     M|  4000|\n",
            "|   Robert|          |Williams|1978-09-05|     M|  4000|\n",
            "|    Maria|      Anne|   Jones|1967-12-01|     F|  4000|\n",
            "|      Jen|      Mary|   Brown|1980-02-17|     F|    -1|\n",
            "+---------+----------+--------+----------+------+------+\n",
            "\n"
          ],
          "name": "stdout"
        }
      ]
    },
    {
      "cell_type": "markdown",
      "metadata": {
        "id": "zUqolBlQ22gG"
      },
      "source": [
        "###Create DataFrame with schema"
      ]
    },
    {
      "cell_type": "code",
      "metadata": {
        "colab": {
          "base_uri": "https://localhost:8080/"
        },
        "id": "WNJ9-vAz5MFh",
        "outputId": "3d12e87f-0b08-4e42-a9dc-e13ddbbc54e7"
      },
      "source": [
        "from pyspark.sql.types import StructType,StructField, StringType, IntegerType\r\n",
        " \r\n",
        "df = spark.createDataFrame(data=data,schema=schema)\r\n",
        "df.printSchema()\r\n",
        "df.show()"
      ],
      "execution_count": 93,
      "outputs": [
        {
          "output_type": "stream",
          "text": [
            "root\n",
            " |-- firstname: string (nullable = true)\n",
            " |-- middlename: string (nullable = true)\n",
            " |-- lastname: string (nullable = true)\n",
            " |-- dob: string (nullable = true)\n",
            " |-- gender: string (nullable = true)\n",
            " |-- salary: integer (nullable = true)\n",
            "\n",
            "+---------+----------+--------+----------+------+------+\n",
            "|firstname|middlename|lastname|       dob|gender|salary|\n",
            "+---------+----------+--------+----------+------+------+\n",
            "|    James|          |   Smith|1991-04-01|     M|  3000|\n",
            "|  Michael|      Rose|        |2000-05-19|     M|  4000|\n",
            "|   Robert|          |Williams|1978-09-05|     M|  4000|\n",
            "|    Maria|      Anne|   Jones|1967-12-01|     F|  4000|\n",
            "|      Jen|      Mary|   Brown|1980-02-17|     F|    -1|\n",
            "+---------+----------+--------+----------+------+------+\n",
            "\n"
          ],
          "name": "stdout"
        }
      ]
    },
    {
      "cell_type": "markdown",
      "metadata": {
        "id": "ZhpIskE92iGQ"
      },
      "source": [
        "##Create DataFrame from Data sources"
      ]
    },
    {
      "cell_type": "markdown",
      "metadata": {
        "id": "fGgZz3tX5Zx9"
      },
      "source": [
        "###Creating DataFrame from CSV"
      ]
    },
    {
      "cell_type": "code",
      "metadata": {
        "colab": {
          "base_uri": "https://localhost:8080/"
        },
        "id": "7QlzRbOY2dqh",
        "outputId": "6c78387e-0fe9-4d1f-8f69-29f06ab4b534"
      },
      "source": [
        "df2 = spark.read.csv(\"/src/resources/file.csv\")"
      ],
      "execution_count": 53,
      "outputs": [
        {
          "output_type": "execute_result",
          "data": {
            "text/plain": [
              "<map at 0x7f821da294d0>"
            ]
          },
          "metadata": {
            "tags": []
          },
          "execution_count": 53
        }
      ]
    },
    {
      "cell_type": "markdown",
      "metadata": {
        "id": "nsC7AgG95fYO"
      },
      "source": [
        "###Creating from text (TXT) file"
      ]
    },
    {
      "cell_type": "code",
      "metadata": {
        "id": "dZUwFZWD5hak"
      },
      "source": [
        "df2 = spark.read.text(\"/src/resources/file.txt\")"
      ],
      "execution_count": null,
      "outputs": []
    },
    {
      "cell_type": "markdown",
      "metadata": {
        "id": "vN9mO36y5i8l"
      },
      "source": [
        "###Creating from JSON file"
      ]
    },
    {
      "cell_type": "code",
      "metadata": {
        "id": "K3ny0UKY5mZW"
      },
      "source": [
        "df2 = spark.read.json(\"/src/resources/file.json\")"
      ],
      "execution_count": null,
      "outputs": []
    },
    {
      "cell_type": "markdown",
      "metadata": {
        "id": "7e94QDz-5v8G"
      },
      "source": [
        "###PySpark Read and Write Parquet File"
      ]
    },
    {
      "cell_type": "code",
      "metadata": {
        "id": "6c7QtSK75xOF"
      },
      "source": [
        "df.write.parquet(\"/tmp/out/people.parquet\") \r\n",
        "parDF1=spark.read.parquet(\"/temp/out/people.parquet\")"
      ],
      "execution_count": null,
      "outputs": []
    },
    {
      "cell_type": "markdown",
      "metadata": {
        "id": "c_YzLB-l6h39"
      },
      "source": [
        "#PySpark withColumnRenamed to Rename Column on DataFrame"
      ]
    },
    {
      "cell_type": "markdown",
      "metadata": {
        "id": "aE1pyUIW6h7f"
      },
      "source": [
        "###PySpark withColumnRenamed – To rename DataFrame column name"
      ]
    },
    {
      "cell_type": "code",
      "metadata": {
        "colab": {
          "base_uri": "https://localhost:8080/"
        },
        "id": "6iiXrMbv67Ph",
        "outputId": "5e91f9e6-435b-45f1-8bdb-6a78466cb6f6"
      },
      "source": [
        "df = spark.createDataFrame(data = data2, schema = schema2)\r\n",
        "df.printSchema()\r\n",
        "df.withColumnRenamed(\"dob\",\"DateOfBirth\").printSchema()"
      ],
      "execution_count": 106,
      "outputs": [
        {
          "output_type": "stream",
          "text": [
            "root\n",
            " |-- name: struct (nullable = true)\n",
            " |    |-- firstname: string (nullable = true)\n",
            " |    |-- middlename: string (nullable = true)\n",
            " |    |-- lastname: string (nullable = true)\n",
            " |-- dob: string (nullable = true)\n",
            " |-- gender: string (nullable = true)\n",
            " |-- salary: integer (nullable = true)\n",
            "\n",
            "root\n",
            " |-- name: struct (nullable = true)\n",
            " |    |-- firstname: string (nullable = true)\n",
            " |    |-- middlename: string (nullable = true)\n",
            " |    |-- lastname: string (nullable = true)\n",
            " |-- DateOfBirth: string (nullable = true)\n",
            " |-- gender: string (nullable = true)\n",
            " |-- salary: integer (nullable = true)\n",
            "\n"
          ],
          "name": "stdout"
        }
      ]
    },
    {
      "cell_type": "markdown",
      "metadata": {
        "id": "faRiUjLm6h_O"
      },
      "source": [
        "###PySpark withColumnRenamed – To rename multiple columns"
      ]
    },
    {
      "cell_type": "code",
      "metadata": {
        "colab": {
          "base_uri": "https://localhost:8080/"
        },
        "id": "qZCRLJ838t_-",
        "outputId": "bd125114-e396-4f3f-87ec-b87df11308e3"
      },
      "source": [
        "df2 = df.withColumnRenamed(\"dob\",\"DateOfBirth\") \\\r\n",
        "    .withColumnRenamed(\"salary\",\"salary_amount\")\r\n",
        "df2.printSchema()"
      ],
      "execution_count": 99,
      "outputs": [
        {
          "output_type": "stream",
          "text": [
            "root\n",
            " |-- name: struct (nullable = true)\n",
            " |    |-- firstname: string (nullable = true)\n",
            " |    |-- middlename: string (nullable = true)\n",
            " |    |-- lastname: string (nullable = true)\n",
            " |-- DateOfBirth: string (nullable = true)\n",
            " |-- gender: string (nullable = true)\n",
            " |-- gender: integer (nullable = true)\n",
            "\n"
          ],
          "name": "stdout"
        }
      ]
    },
    {
      "cell_type": "markdown",
      "metadata": {
        "id": "fZJtvvMx6iSy"
      },
      "source": [
        "###Using PySpark StructType – To rename a nested column in Dataframe"
      ]
    },
    {
      "cell_type": "code",
      "metadata": {
        "colab": {
          "base_uri": "https://localhost:8080/"
        },
        "id": "ZwyIjtLW80vK",
        "outputId": "5a80020d-4432-4e65-f5dd-f6b06df1e19a"
      },
      "source": [
        "schema3 = StructType([\r\n",
        "    StructField(\"fname\",StringType()),\r\n",
        "    StructField(\"middlename\",StringType()),\r\n",
        "    StructField(\"lname\",StringType())])\r\n",
        "schema3"
      ],
      "execution_count": 100,
      "outputs": [
        {
          "output_type": "execute_result",
          "data": {
            "text/plain": [
              "StructType(List(StructField(fname,StringType,true),StructField(middlename,StringType,true),StructField(lname,StringType,true)))"
            ]
          },
          "metadata": {
            "tags": []
          },
          "execution_count": 100
        }
      ]
    },
    {
      "cell_type": "code",
      "metadata": {
        "colab": {
          "base_uri": "https://localhost:8080/"
        },
        "id": "gwppXrbh866T",
        "outputId": "994ba54c-2b20-45f0-879a-7fd608c4a587"
      },
      "source": [
        "df.select(col(\"name\").cast(schema3),col(\"dob\"),col(\"gender\"),col(\"salary\")).printSchema()"
      ],
      "execution_count": 108,
      "outputs": [
        {
          "output_type": "stream",
          "text": [
            "root\n",
            " |-- name: struct (nullable = true)\n",
            " |    |-- fname: string (nullable = true)\n",
            " |    |-- middlename: string (nullable = true)\n",
            " |    |-- lname: string (nullable = true)\n",
            " |-- dob: string (nullable = true)\n",
            " |-- gender: string (nullable = true)\n",
            " |-- salary: integer (nullable = true)\n",
            "\n"
          ],
          "name": "stdout"
        }
      ]
    },
    {
      "cell_type": "markdown",
      "metadata": {
        "id": "fp3wci1CJ5_3"
      },
      "source": [
        "### Using Select – To rename nested elements."
      ]
    },
    {
      "cell_type": "code",
      "metadata": {
        "colab": {
          "base_uri": "https://localhost:8080/"
        },
        "id": "VhG4zdVvJ72S",
        "outputId": "0eab5b85-7f11-44c9-8daf-a1821fdba4fd"
      },
      "source": [
        "df.select(col(\"name.firstname\").alias(\"fname\"),col(\"name.middlename\").alias(\"mname\"),col(\"name.lastname\").alias(\"lname\"),col(\"dob\"),col(\"gender\"),col(\"salary\")).printSchema()"
      ],
      "execution_count": 110,
      "outputs": [
        {
          "output_type": "stream",
          "text": [
            "root\n",
            " |-- fname: string (nullable = true)\n",
            " |-- mname: string (nullable = true)\n",
            " |-- lname: string (nullable = true)\n",
            " |-- dob: string (nullable = true)\n",
            " |-- gender: string (nullable = true)\n",
            " |-- salary: integer (nullable = true)\n",
            "\n"
          ],
          "name": "stdout"
        }
      ]
    },
    {
      "cell_type": "markdown",
      "metadata": {
        "id": "Lq3S78wlKdpg"
      },
      "source": [
        "###Using PySpark DataFrame withColumn"
      ]
    },
    {
      "cell_type": "markdown",
      "metadata": {
        "id": "MBQZleznMuor"
      },
      "source": [
        "####To rename nested columns"
      ]
    },
    {
      "cell_type": "code",
      "metadata": {
        "colab": {
          "base_uri": "https://localhost:8080/"
        },
        "id": "7zy6c2uUKVub",
        "outputId": "a181577e-6358-47c6-8ba3-e8de10bded92"
      },
      "source": [
        "df4 = df.withColumn(\"fname\",col(\"name.firstname\")).withColumn(\"mname\",col(\"name.middlename\")).withColumn(\"lname\",col(\"name.lastname\")).drop(\"name\")\r\n",
        "df4.printSchema()"
      ],
      "execution_count": 115,
      "outputs": [
        {
          "output_type": "stream",
          "text": [
            "root\n",
            " |-- dob: string (nullable = true)\n",
            " |-- gender: string (nullable = true)\n",
            " |-- salary: integer (nullable = true)\n",
            " |-- fname: string (nullable = true)\n",
            " |-- mname: string (nullable = true)\n",
            " |-- lname: string (nullable = true)\n",
            "\n"
          ],
          "name": "stdout"
        }
      ]
    },
    {
      "cell_type": "markdown",
      "metadata": {
        "id": "l-E6sI7HMlcc"
      },
      "source": [
        "####To update or add a column - Change column DataType using PySpark withcolumn"
      ]
    },
    {
      "cell_type": "code",
      "metadata": {
        "colab": {
          "base_uri": "https://localhost:8080/"
        },
        "id": "lEWraVk-M2bW",
        "outputId": "9d1a76bd-05f9-4d64-87ae-f541a5956dd8"
      },
      "source": [
        "df2 = df.withColumn(\"salary\",col(\"salary\").cast(\"Integer\"))\r\n",
        "df2.printSchema()"
      ],
      "execution_count": 119,
      "outputs": [
        {
          "output_type": "stream",
          "text": [
            "root\n",
            " |-- name: struct (nullable = true)\n",
            " |    |-- firstname: string (nullable = true)\n",
            " |    |-- middlename: string (nullable = true)\n",
            " |    |-- lastname: string (nullable = true)\n",
            " |-- dob: string (nullable = true)\n",
            " |-- gender: string (nullable = true)\n",
            " |-- salary: integer (nullable = true)\n",
            "\n"
          ],
          "name": "stdout"
        }
      ]
    },
    {
      "cell_type": "markdown",
      "metadata": {
        "id": "pDlHaOx1NK3E"
      },
      "source": [
        "####To update or add a column - Update the value of an existing column"
      ]
    },
    {
      "cell_type": "code",
      "metadata": {
        "colab": {
          "base_uri": "https://localhost:8080/"
        },
        "id": "SkIoPdFoNNcD",
        "outputId": "a1f38ab1-e8dd-4ccd-fb43-77566453b5a4"
      },
      "source": [
        "df3 = df.withColumn(\"salary\",col(\"salary\")*100)\r\n",
        "df3.show()"
      ],
      "execution_count": 123,
      "outputs": [
        {
          "output_type": "stream",
          "text": [
            "+--------------------+----------+------+------+\n",
            "|                name|       dob|gender|salary|\n",
            "+--------------------+----------+------+------+\n",
            "|    {James, , Smith}|1991-04-01|     M|300000|\n",
            "|   {Michael, Rose, }|2000-05-19|     M|400000|\n",
            "|{Robert, , Williams}|1978-09-05|     M|400000|\n",
            "|{Maria, Anne, Jones}|1967-12-01|     F|400000|\n",
            "|  {Jen, Mary, Brown}|1980-02-17|     F|  -100|\n",
            "+--------------------+----------+------+------+\n",
            "\n"
          ],
          "name": "stdout"
        }
      ]
    },
    {
      "cell_type": "markdown",
      "metadata": {
        "id": "SQ7zthL0NbPl"
      },
      "source": [
        "####To update or add a column - Create a new column from an existing"
      ]
    },
    {
      "cell_type": "code",
      "metadata": {
        "colab": {
          "base_uri": "https://localhost:8080/"
        },
        "id": "2SsRuTzcNgtP",
        "outputId": "87ba5b71-ccaa-4460-c90a-914fbffbdedb"
      },
      "source": [
        "df4 = df.withColumn(\"CopiedColumn\",col(\"salary\")* -1)\r\n",
        "df3.printSchema()"
      ],
      "execution_count": 124,
      "outputs": [
        {
          "output_type": "stream",
          "text": [
            "root\n",
            " |-- name: struct (nullable = true)\n",
            " |    |-- firstname: string (nullable = true)\n",
            " |    |-- middlename: string (nullable = true)\n",
            " |    |-- lastname: string (nullable = true)\n",
            " |-- dob: string (nullable = true)\n",
            " |-- gender: string (nullable = true)\n",
            " |-- salary: integer (nullable = true)\n",
            "\n"
          ],
          "name": "stdout"
        }
      ]
    },
    {
      "cell_type": "markdown",
      "metadata": {
        "id": "BHEuzpMuOxzO"
      },
      "source": [
        "####To update or add a column - Add a new column using withColumn()"
      ]
    },
    {
      "cell_type": "code",
      "metadata": {
        "colab": {
          "base_uri": "https://localhost:8080/"
        },
        "id": "bE1Hpye7O2Bj",
        "outputId": "75967f9e-e86d-4175-9cf0-8789808e2855"
      },
      "source": [
        "df5 = df.withColumn(\"Country\", lit(\"USA\"))\r\n",
        "df5.show()\r\n",
        "\r\n",
        "df6 = df.withColumn(\"Country\", lit(\"USA\")) \\\r\n",
        "   .withColumn(\"anotherColumn\",lit(\"anotherValue\"))\r\n",
        "df6.show()"
      ],
      "execution_count": 128,
      "outputs": [
        {
          "output_type": "stream",
          "text": [
            "+--------------------+----------+------+------+-------+\n",
            "|                name|       dob|gender|salary|Country|\n",
            "+--------------------+----------+------+------+-------+\n",
            "|    {James, , Smith}|1991-04-01|     M|  3000|    USA|\n",
            "|   {Michael, Rose, }|2000-05-19|     M|  4000|    USA|\n",
            "|{Robert, , Williams}|1978-09-05|     M|  4000|    USA|\n",
            "|{Maria, Anne, Jones}|1967-12-01|     F|  4000|    USA|\n",
            "|  {Jen, Mary, Brown}|1980-02-17|     F|    -1|    USA|\n",
            "+--------------------+----------+------+------+-------+\n",
            "\n",
            "+--------------------+----------+------+------+-------+-------------+\n",
            "|                name|       dob|gender|salary|Country|anotherColumn|\n",
            "+--------------------+----------+------+------+-------+-------------+\n",
            "|    {James, , Smith}|1991-04-01|     M|  3000|    USA| anotherValue|\n",
            "|   {Michael, Rose, }|2000-05-19|     M|  4000|    USA| anotherValue|\n",
            "|{Robert, , Williams}|1978-09-05|     M|  4000|    USA| anotherValue|\n",
            "|{Maria, Anne, Jones}|1967-12-01|     F|  4000|    USA| anotherValue|\n",
            "|  {Jen, Mary, Brown}|1980-02-17|     F|    -1|    USA| anotherValue|\n",
            "+--------------------+----------+------+------+-------+-------------+\n",
            "\n"
          ],
          "name": "stdout"
        }
      ]
    },
    {
      "cell_type": "markdown",
      "metadata": {
        "id": "rxM9Th-1PY2T"
      },
      "source": [
        "####Rename column name"
      ]
    },
    {
      "cell_type": "code",
      "metadata": {
        "colab": {
          "base_uri": "https://localhost:8080/"
        },
        "id": "Ia2rRfLXPeib",
        "outputId": "5ed9b311-df0d-4670-8b5c-a087bd9cc6c6"
      },
      "source": [
        "df.withColumnRenamed(\"gender\",\"sex\").show(truncate=False) "
      ],
      "execution_count": 129,
      "outputs": [
        {
          "output_type": "stream",
          "text": [
            "+--------------------+----------+---+------+\n",
            "|name                |dob       |sex|salary|\n",
            "+--------------------+----------+---+------+\n",
            "|{James, , Smith}    |1991-04-01|M  |3000  |\n",
            "|{Michael, Rose, }   |2000-05-19|M  |4000  |\n",
            "|{Robert, , Williams}|1978-09-05|M  |4000  |\n",
            "|{Maria, Anne, Jones}|1967-12-01|F  |4000  |\n",
            "|{Jen, Mary, Brown}  |1980-02-17|F  |-1    |\n",
            "+--------------------+----------+---+------+\n",
            "\n"
          ],
          "name": "stdout"
        }
      ]
    },
    {
      "cell_type": "markdown",
      "metadata": {
        "id": "7Tp_W51SPq6Q"
      },
      "source": [
        "####Drop a column from PySpark DataFrame"
      ]
    },
    {
      "cell_type": "code",
      "metadata": {
        "colab": {
          "base_uri": "https://localhost:8080/"
        },
        "id": "HZloa4IhP-8K",
        "outputId": "d2cd0cbd-f3ba-493a-b301-4821f54a3c94"
      },
      "source": [
        "df4.drop(\"CopiedColumn\").show(truncate=False) "
      ],
      "execution_count": 130,
      "outputs": [
        {
          "output_type": "stream",
          "text": [
            "+--------------------+----------+------+------+\n",
            "|name                |dob       |gender|salary|\n",
            "+--------------------+----------+------+------+\n",
            "|{James, , Smith}    |1991-04-01|M     |3000  |\n",
            "|{Michael, Rose, }   |2000-05-19|M     |4000  |\n",
            "|{Robert, , Williams}|1978-09-05|M     |4000  |\n",
            "|{Maria, Anne, Jones}|1967-12-01|F     |4000  |\n",
            "|{Jen, Mary, Brown}  |1980-02-17|F     |-1    |\n",
            "+--------------------+----------+------+------+\n",
            "\n"
          ],
          "name": "stdout"
        }
      ]
    },
    {
      "cell_type": "markdown",
      "metadata": {
        "id": "CwCqS3IVLCwp"
      },
      "source": [
        "### Using toDF() – To change all columns in a PySpark DataFrame"
      ]
    },
    {
      "cell_type": "code",
      "metadata": {
        "colab": {
          "base_uri": "https://localhost:8080/"
        },
        "id": "Bi_mq6B5LEfk",
        "outputId": "2369b3c5-2d31-474f-f471-d5ddacb5e439"
      },
      "source": [
        "newColumns = [\"newCol1\",\"newCol2\",\"newCol3\",\"newCol4\"]\r\n",
        "df.toDF(*newColumns).printSchema()"
      ],
      "execution_count": 116,
      "outputs": [
        {
          "output_type": "stream",
          "text": [
            "root\n",
            " |-- newCol1: struct (nullable = true)\n",
            " |    |-- firstname: string (nullable = true)\n",
            " |    |-- middlename: string (nullable = true)\n",
            " |    |-- lastname: string (nullable = true)\n",
            " |-- newCol2: string (nullable = true)\n",
            " |-- newCol3: string (nullable = true)\n",
            " |-- newCol4: integer (nullable = true)\n",
            "\n"
          ],
          "name": "stdout"
        }
      ]
    }
  ]
}